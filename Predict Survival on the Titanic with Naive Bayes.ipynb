{
 "cells": [
  {
   "cell_type": "markdown",
   "id": "0a1a7310",
   "metadata": {},
   "source": [
    "### IMPORT LIBRARY "
   ]
  },
  {
   "cell_type": "code",
   "execution_count": 1,
   "id": "333e24df",
   "metadata": {},
   "outputs": [],
   "source": [
    "import pandas as pd\n",
    "import seaborn as sns\n",
    "import matplotlib.pyplot as plt \n",
    "from sklearn.naive_bayes import GaussianNB \n",
    "from sklearn.metrics import confusion_matrix\n",
    "from sklearn.preprocessing import LabelEncoder \n",
    "from sklearn.preprocessing import StandardScaler "
   ]
  },
  {
   "cell_type": "markdown",
   "id": "bd389df3",
   "metadata": {},
   "source": [
    "### DATASET PREPARATION "
   ]
  },
  {
   "cell_type": "code",
   "execution_count": 2,
   "id": "feec09ba",
   "metadata": {},
   "outputs": [],
   "source": [
    "# Import Data\n",
    "dt_train = pd.read_csv(\"Dataset/train.csv\") # With Label Data\n",
    "dt_test = pd.read_csv(\"Dataset/test.csv\") # Without Label Data"
   ]
  },
  {
   "cell_type": "code",
   "execution_count": 3,
   "id": "4f609254",
   "metadata": {},
   "outputs": [
    {
     "name": "stdout",
     "output_type": "stream",
     "text": [
      "Length of Training Data :  891\n",
      "Length of Test Data     :  418\n"
     ]
    }
   ],
   "source": [
    "# Data Length\n",
    "print(\"Length of Training Data : \", len(dt_train))\n",
    "print(\"Length of Test Data     : \", len(dt_test))"
   ]
  },
  {
   "cell_type": "code",
   "execution_count": 4,
   "id": "306f03cf",
   "metadata": {},
   "outputs": [],
   "source": [
    "# Sort data by Data Type\n",
    "dt_train = dt_train[['PassengerId', 'Pclass', 'Age', 'SibSp', 'Parch', 'Fare', 'Sex', 'Embarked', 'Name', 'Ticket', 'Cabin', 'Survived']]\n",
    "dt_test = dt_test[['PassengerId', 'Pclass', 'Age', 'SibSp', 'Parch', 'Fare', 'Sex', 'Embarked', 'Name', 'Ticket', 'Cabin']]"
   ]
  },
  {
   "cell_type": "code",
   "execution_count": 5,
   "id": "79c8a7d8",
   "metadata": {},
   "outputs": [],
   "source": [
    "# Separates the data set into feature and label data in Training Data\n",
    "x_train = dt_train.iloc[:, 0:8] # Feature\n",
    "y_train = dt_train.iloc[:, -1] # Label\n",
    "\n",
    "# Separates the data set into feature data in  Test Data\n",
    "x_test = dt_test.iloc[:, 0:8] # Feature"
   ]
  },
  {
   "cell_type": "code",
   "execution_count": 6,
   "id": "e6eefe44",
   "metadata": {},
   "outputs": [
    {
     "name": "stdout",
     "output_type": "stream",
     "text": [
      "Missing values in x_train :\n",
      "PassengerId      0\n",
      "Pclass           0\n",
      "Age            177\n",
      "SibSp            0\n",
      "Parch            0\n",
      "Fare             0\n",
      "Sex              0\n",
      "Embarked         2\n",
      "dtype: int64 \n",
      "\n",
      "Missing values in y_train : \n",
      "0 \n",
      "\n",
      "Missing values in x_test : \n",
      "PassengerId     0\n",
      "Pclass          0\n",
      "Age            86\n",
      "SibSp           0\n",
      "Parch           0\n",
      "Fare            1\n",
      "Sex             0\n",
      "Embarked        0\n",
      "dtype: int64\n"
     ]
    }
   ],
   "source": [
    "# Missing values in Training Data\n",
    "print(\"Missing values in x_train :\")\n",
    "print(x_train.isnull().sum(),\"\\n\")\n",
    "print(\"Missing values in y_train : \")\n",
    "print(y_train.isnull().sum(),\"\\n\")\n",
    "\n",
    "# Missing values in  Test Data\n",
    "print(\"Missing values in x_test : \")\n",
    "print(x_test.isnull().sum())"
   ]
  },
  {
   "cell_type": "code",
   "execution_count": 7,
   "id": "80f96894",
   "metadata": {},
   "outputs": [],
   "source": [
    "# Handling missing values in Training Data\n",
    "# Age column\n",
    "age = x_train['Age'].mean() \n",
    "x_train['Age'] = x_train['Age'].fillna(age) \n",
    "# Embarked column\n",
    "x_train['Embarked'] = x_train['Embarked'].fillna('N')\n",
    "\n",
    "# Handling missing values in  Test Data\n",
    "# Age column\n",
    "age = x_train['Age'].mean() \n",
    "x_train['Age'] = x_train['Age'].fillna(age) \n",
    "# Embarked column\n",
    "x_train['Embarked'] = x_train['Embarked'].fillna('N')"
   ]
  },
  {
   "cell_type": "code",
   "execution_count": 8,
   "id": "daa1df95",
   "metadata": {},
   "outputs": [
    {
     "name": "stdout",
     "output_type": "stream",
     "text": [
      "Missing values in x_train :\n",
      "PassengerId    0\n",
      "Pclass         0\n",
      "Age            0\n",
      "SibSp          0\n",
      "Parch          0\n",
      "Fare           0\n",
      "Sex            0\n",
      "Embarked       0\n",
      "dtype: int64 \n",
      "\n",
      "Missing values in y_train : \n",
      "0 \n",
      "\n",
      "Missing values in x_test : \n",
      "PassengerId     0\n",
      "Pclass          0\n",
      "Age            86\n",
      "SibSp           0\n",
      "Parch           0\n",
      "Fare            1\n",
      "Sex             0\n",
      "Embarked        0\n",
      "dtype: int64\n"
     ]
    }
   ],
   "source": [
    "# Missing values in Training Data\n",
    "print(\"Missing values in x_train :\")\n",
    "print(x_train.isnull().sum(),\"\\n\")\n",
    "print(\"Missing values in y_train : \")\n",
    "print(y_train.isnull().sum(),\"\\n\")\n",
    "\n",
    "# Missing values in  Test Data\n",
    "print(\"Missing values in x_test : \")\n",
    "print(x_test.isnull().sum())"
   ]
  },
  {
   "cell_type": "markdown",
   "id": "91fa62c4",
   "metadata": {},
   "source": [
    "### DATASET PREPROCESSING"
   ]
  },
  {
   "cell_type": "code",
   "execution_count": 9,
   "id": "56048949",
   "metadata": {},
   "outputs": [],
   "source": [
    "# Encode Data\n",
    "le = LabelEncoder()\n",
    "\n",
    "# Training data encoding\n",
    "le.fit(x_train['Sex'])\n",
    "x_train['Sex'] = le.transform(x_train['Sex'])\n",
    "\n",
    "le.fit(x_train['Embarked'])\n",
    "x_train['Embarked'] = le.transform(x_train['Embarked'])\n",
    "\n",
    "# Test data encoding\n",
    "le.fit(x_test['Sex'])\n",
    "x_test['Sex'] = le.transform(x_test['Sex'])\n",
    "\n",
    "le.fit(x_test['Embarked'])\n",
    "x_test['Embarked'] = le.transform(x_test['Embarked'])"
   ]
  },
  {
   "cell_type": "code",
   "execution_count": 10,
   "id": "f83bd7ce",
   "metadata": {},
   "outputs": [],
   "source": [
    "# StandarScaler\n",
    "sc = StandardScaler()  \n",
    "\n",
    "# Scalling data\n",
    "x_train = sc.fit_transform(x_train)\n",
    "x_test = sc.fit_transform(x_test) "
   ]
  },
  {
   "cell_type": "markdown",
   "id": "52f28aad",
   "metadata": {},
   "source": [
    "### CLASSIFICATION"
   ]
  },
  {
   "cell_type": "code",
   "execution_count": 12,
   "id": "8affb15f",
   "metadata": {},
   "outputs": [
    {
     "data": {
      "text/plain": [
       "0.792368125701459"
      ]
     },
     "execution_count": 12,
     "metadata": {},
     "output_type": "execute_result"
    }
   ],
   "source": [
    "# Classification with GaussianNB\n",
    "classifier = GaussianNB()\n",
    "\n",
    "classifier.fit(x_train, y_train) # Train a classification models\n",
    "classifier.score(x_train, y_train) # Accuracy"
   ]
  },
  {
   "cell_type": "code",
   "execution_count": 15,
   "id": "200e9d53",
   "metadata": {},
   "outputs": [
    {
     "data": {
      "text/plain": [
       "array([0, 1, 1, 1, 0, 0, 0, 0, 1, 1, 1, 1, 0, 0, 1, 1, 0, 0, 1, 1, 0, 0,\n",
       "       1, 0, 0, 0, 0, 1, 1, 0, 1, 1, 1, 0, 1, 0, 0, 0, 0, 1, 1, 1, 0, 1,\n",
       "       1, 0, 0, 1, 0, 1, 0, 0, 1, 1, 1, 0, 1, 0, 1, 0, 0, 1, 1, 0, 1, 0,\n",
       "       1, 0, 0, 0, 0, 0, 0, 0, 0, 0, 0, 0, 0, 1, 0, 0, 1, 0, 1, 0, 0, 0,\n",
       "       1, 0, 0, 0, 0, 0, 0, 0, 1, 1, 1, 0, 1, 0, 1, 0, 0, 0, 1, 0, 0, 1,\n",
       "       0, 1, 0, 1, 1, 0, 0, 0, 1, 0, 0, 0, 0, 1, 1, 0, 0, 0, 1, 0, 0, 0,\n",
       "       1, 1, 0, 0, 1, 0, 0, 1, 1, 1, 1, 0, 0, 0, 0, 0, 0, 0, 0, 1, 0, 0,\n",
       "       0, 1, 1, 0, 0, 0, 0, 1, 0, 0, 0, 0, 1, 0, 0, 0, 0, 0, 1, 0, 1, 0,\n",
       "       0, 1, 0, 0, 0, 0, 0, 0, 1, 0, 1, 0, 0, 0, 1, 0, 1, 0, 1, 1, 0, 0,\n",
       "       1, 1, 0, 0, 0, 0, 0, 1, 0, 0, 1, 1, 0, 1, 0, 0, 0, 1, 1, 0, 1, 0,\n",
       "       0, 0, 0, 0, 1, 0, 0, 0, 0, 0, 1, 0, 0, 0, 0, 1, 0, 1, 0, 0, 1, 1,\n",
       "       0, 0, 0, 0, 1, 1, 0, 0, 0, 1, 0, 0, 1, 1, 1, 1, 1, 1, 0, 0, 1, 0,\n",
       "       1, 0, 0, 0, 1, 1, 0, 0, 1, 1, 1, 1, 1, 0, 0, 1, 0, 0, 0, 0, 0, 0,\n",
       "       0, 0, 0, 1, 1, 1, 0, 1, 0, 1, 0, 1, 0, 1, 1, 0, 0, 1, 0, 1, 1, 1,\n",
       "       0, 1, 1, 1, 1, 0, 0, 1, 1, 0, 1, 1, 0, 0, 1, 1, 0, 1, 0, 1, 1, 1,\n",
       "       0, 0, 1, 0, 1, 0, 0, 1, 0, 0, 0, 1, 0, 0, 0, 1, 1, 1, 0, 0, 0, 0,\n",
       "       0, 0, 0, 0, 1, 1, 1, 1, 0, 0, 1, 0, 0, 0, 1, 1, 1, 1, 1, 0, 0, 1,\n",
       "       0, 1, 1, 1, 0, 0, 1, 1, 0, 1, 0, 0, 0, 1, 0, 1, 1, 0, 0, 1, 1, 0,\n",
       "       1, 0, 0, 1, 0, 0, 1, 0, 1, 0, 0, 0, 0, 0, 0, 0, 1, 0, 0, 1, 1, 1,\n",
       "       0, 1, 0, 0, 0, 1, 0, 0, 1, 1, 0, 0, 0, 1, 1, 0, 0, 1, 0, 0, 1, 0,\n",
       "       1, 0, 0, 1, 0, 1, 1, 0, 1, 0, 0, 0, 1, 1, 0, 0, 0, 1, 1, 0, 0, 0,\n",
       "       0, 0, 0, 0, 0, 0, 0, 1, 0, 0, 1, 1, 1, 0, 0, 0, 0, 1, 0, 0, 0, 1,\n",
       "       1, 0, 1, 1, 0, 0, 0, 0, 0, 1, 0, 0, 1, 0, 1, 0, 0, 1, 1, 1, 1, 1,\n",
       "       1, 0, 0, 0, 0, 0, 0, 1, 0, 0, 1, 0, 1, 0, 1, 0, 0, 1, 0, 0, 1, 1,\n",
       "       0, 0, 1, 0, 0, 1, 1, 1, 0, 1, 0, 1, 1, 0, 0, 0, 1, 0, 1, 0, 0, 0,\n",
       "       1, 0, 0, 0, 1, 0, 1, 1, 1, 1, 0, 0, 0, 0, 1, 0, 0, 0, 0, 0, 0, 1,\n",
       "       0, 1, 0, 0, 1, 1, 1, 0, 1, 1, 0, 1, 0, 1, 0, 1, 0, 0, 0, 1, 0, 1,\n",
       "       0, 0, 1, 0, 0, 1, 0, 0, 0, 0, 1, 0, 0, 0, 1, 1, 0, 0, 1, 0, 0, 1,\n",
       "       0, 1, 1, 0, 0, 0, 0, 0, 0, 0, 0, 1, 0, 0, 0, 0, 1, 0, 0, 1, 0, 0,\n",
       "       0, 0, 0, 1, 0, 0, 1, 1, 0, 1, 0, 1, 0, 1, 0, 1, 1, 0, 0, 1, 0, 1,\n",
       "       1, 0, 0, 0, 0, 0, 0, 0, 0, 1, 1, 0, 0, 0, 0, 0, 0, 1, 0, 1, 1, 1,\n",
       "       0, 0, 0, 0, 0, 0, 0, 1, 0, 1, 0, 0, 0, 0, 0, 1, 1, 0, 1, 0, 1, 0,\n",
       "       0, 0, 1, 0, 1, 0, 1, 0, 0, 0, 0, 0, 1, 1, 0, 0, 1, 0, 0, 0, 0, 0,\n",
       "       0, 1, 0, 1, 1, 0, 0, 0, 0, 0, 1, 1, 0, 0, 0, 1, 1, 0, 0, 1, 0, 1,\n",
       "       0, 0, 1, 0, 0, 0, 1, 0, 0, 0, 0, 1, 0, 0, 0, 1, 0, 1, 1, 1, 0, 0,\n",
       "       0, 0, 1, 0, 1, 0, 0, 1, 0, 1, 1, 1, 0, 0, 0, 0, 1, 0, 0, 1, 0, 0,\n",
       "       0, 1, 0, 0, 1, 1, 0, 1, 0, 1, 1, 0, 0, 0, 0, 1, 0, 1, 0, 0, 0, 0,\n",
       "       0, 0, 1, 0, 0, 0, 1, 0, 0, 1, 0, 0, 0, 1, 0, 1, 1, 0, 0, 0, 0, 1,\n",
       "       0, 0, 0, 1, 0, 0, 1, 0, 0, 0, 0, 0, 0, 1, 0, 0, 1, 1, 1, 1, 1, 0,\n",
       "       1, 0, 0, 0, 1, 0, 0, 1, 1, 0, 0, 0, 0, 1, 0, 0, 1, 1, 0, 0, 0, 1,\n",
       "       1, 0, 1, 0, 0, 0, 0, 1, 1, 1, 0], dtype=int64)"
      ]
     },
     "execution_count": 15,
     "metadata": {},
     "output_type": "execute_result"
    }
   ],
   "source": [
    "# Predicting the Test Set result\n",
    "y_pred = classifier.predict(x_train) \n",
    "y_pred # Show the result"
   ]
  },
  {
   "cell_type": "code",
   "execution_count": 16,
   "id": "73b16b50",
   "metadata": {},
   "outputs": [
    {
     "data": {
      "image/png": "[encoded data removed]",
      "text/plain": [
       "<Figure size 500x500 with 2 Axes>"
      ]
     },
     "metadata": {},
     "output_type": "display_data"
    }
   ],
   "source": [
    "# Accuracy with Confusion Matrix\n",
    "f, ax = plt.subplots(figsize=(5,5))\n",
    "sns.heatmap(\n",
    "    confusion_matrix(y_train, y_pred), \n",
    "    annot=True, \n",
    "    fmt=\".0f\", \n",
    "    ax=ax, \n",
    "    cmap=\"Blues\"\n",
    ")\n",
    "plt.xlabel(\"Predicted Label\")\n",
    "plt.ylabel(\"True Label\")\n",
    "plt.show()"
   ]
  },
  {
   "cell_type": "code",
   "execution_count": 18,
   "id": "f2e6f2b7",
   "metadata": {},
   "outputs": [
    {
     "data": {
      "text/plain": [
       "array([0], dtype=int64)"
      ]
     },
     "execution_count": 18,
     "metadata": {},
     "output_type": "execute_result"
    }
   ],
   "source": [
    "# PredictinG the Test Set result one by one\n",
    "y_pred = classifier.predict([x_test[0]]) # indexing to 12\n",
    "y_pred # Show the result"
   ]
  }
 ],
 "metadata": {
  "kernelspec": {
   "display_name": "Python 3 (ipykernel)",
   "language": "python",
   "name": "python3"
  },
  "language_info": {
   "codemirror_mode": {
    "name": "ipython",
    "version": 3
   },
   "file_extension": ".py",
   "mimetype": "text/x-python",
   "name": "python",
   "nbconvert_exporter": "python",
   "pygments_lexer": "ipython3",
   "version": "3.9.13"
  }
 },
 "nbformat": 4,
 "nbformat_minor": 5
}
